{
 "cells": [
  {
   "cell_type": "code",
   "execution_count": 2,
   "id": "78420d7e",
   "metadata": {},
   "outputs": [],
   "source": [
    "import pandas as pd\n",
    "import numpy as np\n",
    "pd.set_option('display.Max_columns' , None)\n",
    "pd.set_option('display.Max_rows', None)"
   ]
  },
  {
   "cell_type": "code",
   "execution_count": 3,
   "id": "c9496d7c",
   "metadata": {},
   "outputs": [],
   "source": [
    "bk = pd.read_csv(r\"C:\\Users\\rhuta\\Downloads\\Bank_customer_churn_outside.csv\")"
   ]
  },
  {
   "cell_type": "code",
   "execution_count": 4,
   "id": "00fd4891",
   "metadata": {},
   "outputs": [
    {
     "data": {
      "text/html": [
       "<div>\n",
       "<style scoped>\n",
       "    .dataframe tbody tr th:only-of-type {\n",
       "        vertical-align: middle;\n",
       "    }\n",
       "\n",
       "    .dataframe tbody tr th {\n",
       "        vertical-align: top;\n",
       "    }\n",
       "\n",
       "    .dataframe thead th {\n",
       "        text-align: right;\n",
       "    }\n",
       "</style>\n",
       "<table border=\"1\" class=\"dataframe\">\n",
       "  <thead>\n",
       "    <tr style=\"text-align: right;\">\n",
       "      <th></th>\n",
       "      <th>ID</th>\n",
       "      <th>Gender</th>\n",
       "      <th>Age</th>\n",
       "      <th>Region_Code</th>\n",
       "      <th>Occupation</th>\n",
       "      <th>Channel_Code</th>\n",
       "      <th>Vintage</th>\n",
       "      <th>Credit_Product</th>\n",
       "      <th>Avg_Account_Balance</th>\n",
       "      <th>Is_Active</th>\n",
       "      <th>Is_Lead</th>\n",
       "    </tr>\n",
       "  </thead>\n",
       "  <tbody>\n",
       "    <tr>\n",
       "      <th>0</th>\n",
       "      <td>NNVBBKZB</td>\n",
       "      <td>Female</td>\n",
       "      <td>73</td>\n",
       "      <td>RG268</td>\n",
       "      <td>Other</td>\n",
       "      <td>X3</td>\n",
       "      <td>43</td>\n",
       "      <td>No</td>\n",
       "      <td>1045696</td>\n",
       "      <td>No</td>\n",
       "      <td>0</td>\n",
       "    </tr>\n",
       "    <tr>\n",
       "      <th>1</th>\n",
       "      <td>IDD62UNG</td>\n",
       "      <td>Female</td>\n",
       "      <td>30</td>\n",
       "      <td>RG277</td>\n",
       "      <td>Salaried</td>\n",
       "      <td>X1</td>\n",
       "      <td>32</td>\n",
       "      <td>No</td>\n",
       "      <td>581988</td>\n",
       "      <td>No</td>\n",
       "      <td>0</td>\n",
       "    </tr>\n",
       "    <tr>\n",
       "      <th>2</th>\n",
       "      <td>HD3DSEMC</td>\n",
       "      <td>Female</td>\n",
       "      <td>56</td>\n",
       "      <td>RG268</td>\n",
       "      <td>Self_Employed</td>\n",
       "      <td>X3</td>\n",
       "      <td>26</td>\n",
       "      <td>No</td>\n",
       "      <td>1484315</td>\n",
       "      <td>Yes</td>\n",
       "      <td>0</td>\n",
       "    </tr>\n",
       "    <tr>\n",
       "      <th>3</th>\n",
       "      <td>BF3NC7KV</td>\n",
       "      <td>Male</td>\n",
       "      <td>34</td>\n",
       "      <td>RG270</td>\n",
       "      <td>Salaried</td>\n",
       "      <td>X1</td>\n",
       "      <td>19</td>\n",
       "      <td>No</td>\n",
       "      <td>470454</td>\n",
       "      <td>No</td>\n",
       "      <td>0</td>\n",
       "    </tr>\n",
       "    <tr>\n",
       "      <th>4</th>\n",
       "      <td>TEASRWXV</td>\n",
       "      <td>Female</td>\n",
       "      <td>30</td>\n",
       "      <td>RG282</td>\n",
       "      <td>Salaried</td>\n",
       "      <td>X1</td>\n",
       "      <td>33</td>\n",
       "      <td>No</td>\n",
       "      <td>886787</td>\n",
       "      <td>No</td>\n",
       "      <td>0</td>\n",
       "    </tr>\n",
       "    <tr>\n",
       "      <th>5</th>\n",
       "      <td>ACUTYTWS</td>\n",
       "      <td>Male</td>\n",
       "      <td>56</td>\n",
       "      <td>RG261</td>\n",
       "      <td>Self_Employed</td>\n",
       "      <td>X1</td>\n",
       "      <td>32</td>\n",
       "      <td>No</td>\n",
       "      <td>544163</td>\n",
       "      <td>Yes</td>\n",
       "      <td>0</td>\n",
       "    </tr>\n",
       "    <tr>\n",
       "      <th>6</th>\n",
       "      <td>ETQCZFEJ</td>\n",
       "      <td>Male</td>\n",
       "      <td>62</td>\n",
       "      <td>RG282</td>\n",
       "      <td>Other</td>\n",
       "      <td>X3</td>\n",
       "      <td>20</td>\n",
       "      <td>NaN</td>\n",
       "      <td>1056750</td>\n",
       "      <td>Yes</td>\n",
       "      <td>1</td>\n",
       "    </tr>\n",
       "    <tr>\n",
       "      <th>7</th>\n",
       "      <td>JJNJUQMQ</td>\n",
       "      <td>Female</td>\n",
       "      <td>48</td>\n",
       "      <td>RG265</td>\n",
       "      <td>Self_Employed</td>\n",
       "      <td>X3</td>\n",
       "      <td>13</td>\n",
       "      <td>No</td>\n",
       "      <td>444724</td>\n",
       "      <td>Yes</td>\n",
       "      <td>0</td>\n",
       "    </tr>\n",
       "    <tr>\n",
       "      <th>8</th>\n",
       "      <td>ZMQFYKCB</td>\n",
       "      <td>Female</td>\n",
       "      <td>40</td>\n",
       "      <td>RG283</td>\n",
       "      <td>Self_Employed</td>\n",
       "      <td>X2</td>\n",
       "      <td>38</td>\n",
       "      <td>No</td>\n",
       "      <td>1274284</td>\n",
       "      <td>No</td>\n",
       "      <td>0</td>\n",
       "    </tr>\n",
       "    <tr>\n",
       "      <th>9</th>\n",
       "      <td>NVKTFBA2</td>\n",
       "      <td>Female</td>\n",
       "      <td>55</td>\n",
       "      <td>RG268</td>\n",
       "      <td>Self_Employed</td>\n",
       "      <td>X2</td>\n",
       "      <td>49</td>\n",
       "      <td>Yes</td>\n",
       "      <td>2014239</td>\n",
       "      <td>No</td>\n",
       "      <td>0</td>\n",
       "    </tr>\n",
       "  </tbody>\n",
       "</table>\n",
       "</div>"
      ],
      "text/plain": [
       "         ID  Gender  Age Region_Code     Occupation Channel_Code  Vintage  \\\n",
       "0  NNVBBKZB  Female   73       RG268          Other           X3       43   \n",
       "1  IDD62UNG  Female   30       RG277       Salaried           X1       32   \n",
       "2  HD3DSEMC  Female   56       RG268  Self_Employed           X3       26   \n",
       "3  BF3NC7KV    Male   34       RG270       Salaried           X1       19   \n",
       "4  TEASRWXV  Female   30       RG282       Salaried           X1       33   \n",
       "5  ACUTYTWS    Male   56       RG261  Self_Employed           X1       32   \n",
       "6  ETQCZFEJ    Male   62       RG282          Other           X3       20   \n",
       "7  JJNJUQMQ  Female   48       RG265  Self_Employed           X3       13   \n",
       "8  ZMQFYKCB  Female   40       RG283  Self_Employed           X2       38   \n",
       "9  NVKTFBA2  Female   55       RG268  Self_Employed           X2       49   \n",
       "\n",
       "  Credit_Product  Avg_Account_Balance Is_Active  Is_Lead  \n",
       "0             No              1045696        No        0  \n",
       "1             No               581988        No        0  \n",
       "2             No              1484315       Yes        0  \n",
       "3             No               470454        No        0  \n",
       "4             No               886787        No        0  \n",
       "5             No               544163       Yes        0  \n",
       "6            NaN              1056750       Yes        1  \n",
       "7             No               444724       Yes        0  \n",
       "8             No              1274284        No        0  \n",
       "9            Yes              2014239        No        0  "
      ]
     },
     "execution_count": 4,
     "metadata": {},
     "output_type": "execute_result"
    }
   ],
   "source": [
    "bk.head(10)"
   ]
  },
  {
   "cell_type": "code",
   "execution_count": 5,
   "id": "96fb5cab",
   "metadata": {},
   "outputs": [
    {
     "data": {
      "text/plain": [
       "(245725, 11)"
      ]
     },
     "execution_count": 5,
     "metadata": {},
     "output_type": "execute_result"
    }
   ],
   "source": [
    "bk.shape"
   ]
  },
  {
   "cell_type": "code",
   "execution_count": 7,
   "id": "15ecacb3",
   "metadata": {},
   "outputs": [],
   "source": [
    "#bk.Region_Code.value_counts()"
   ]
  },
  {
   "cell_type": "code",
   "execution_count": 8,
   "id": "679cd569",
   "metadata": {},
   "outputs": [
    {
     "data": {
      "text/plain": [
       "ID                         0\n",
       "Gender                     0\n",
       "Age                        0\n",
       "Region_Code                0\n",
       "Occupation                 0\n",
       "Channel_Code               0\n",
       "Vintage                    0\n",
       "Credit_Product         29325\n",
       "Avg_Account_Balance        0\n",
       "Is_Active                  0\n",
       "Is_Lead                    0\n",
       "dtype: int64"
      ]
     },
     "execution_count": 8,
     "metadata": {},
     "output_type": "execute_result"
    }
   ],
   "source": [
    "bk.isnull().sum()"
   ]
  },
  {
   "cell_type": "code",
   "execution_count": 9,
   "id": "7377cdb3",
   "metadata": {},
   "outputs": [
    {
     "data": {
      "text/plain": [
       "No     144357\n",
       "Yes     72043\n",
       "Name: Credit_Product, dtype: int64"
      ]
     },
     "execution_count": 9,
     "metadata": {},
     "output_type": "execute_result"
    }
   ],
   "source": [
    "bk.Credit_Product.value_counts()"
   ]
  },
  {
   "cell_type": "code",
   "execution_count": 10,
   "id": "727604e0",
   "metadata": {},
   "outputs": [],
   "source": [
    "bk = bk.drop(['ID'], axis = 1)"
   ]
  },
  {
   "cell_type": "code",
   "execution_count": 11,
   "id": "f529c913",
   "metadata": {},
   "outputs": [
    {
     "data": {
      "text/plain": [
       "(245725, 10)"
      ]
     },
     "execution_count": 11,
     "metadata": {},
     "output_type": "execute_result"
    }
   ],
   "source": [
    "bk.shape"
   ]
  },
  {
   "cell_type": "code",
   "execution_count": 12,
   "id": "6e2a7ecc",
   "metadata": {},
   "outputs": [],
   "source": [
    "bk.Credit_Product = bk.Credit_Product.fillna('No')"
   ]
  },
  {
   "cell_type": "code",
   "execution_count": 13,
   "id": "de07eb64",
   "metadata": {},
   "outputs": [
    {
     "name": "stdout",
     "output_type": "stream",
     "text": [
      "<class 'pandas.core.frame.DataFrame'>\n",
      "RangeIndex: 245725 entries, 0 to 245724\n",
      "Data columns (total 10 columns):\n",
      " #   Column               Non-Null Count   Dtype \n",
      "---  ------               --------------   ----- \n",
      " 0   Gender               245725 non-null  object\n",
      " 1   Age                  245725 non-null  int64 \n",
      " 2   Region_Code          245725 non-null  object\n",
      " 3   Occupation           245725 non-null  object\n",
      " 4   Channel_Code         245725 non-null  object\n",
      " 5   Vintage              245725 non-null  int64 \n",
      " 6   Credit_Product       245725 non-null  object\n",
      " 7   Avg_Account_Balance  245725 non-null  int64 \n",
      " 8   Is_Active            245725 non-null  object\n",
      " 9   Is_Lead              245725 non-null  int64 \n",
      "dtypes: int64(4), object(6)\n",
      "memory usage: 18.7+ MB\n"
     ]
    }
   ],
   "source": [
    "bk.info()"
   ]
  },
  {
   "cell_type": "code",
   "execution_count": 15,
   "id": "edd1d4dc",
   "metadata": {},
   "outputs": [],
   "source": [
    "from sklearn.preprocessing import LabelEncoder"
   ]
  },
  {
   "cell_type": "code",
   "execution_count": 16,
   "id": "a0ddef02",
   "metadata": {},
   "outputs": [
    {
     "name": "stdout",
     "output_type": "stream",
     "text": [
      "<class 'pandas.core.frame.DataFrame'>\n",
      "RangeIndex: 245725 entries, 0 to 245724\n",
      "Data columns (total 10 columns):\n",
      " #   Column               Non-Null Count   Dtype \n",
      "---  ------               --------------   ----- \n",
      " 0   Gender               245725 non-null  object\n",
      " 1   Age                  245725 non-null  int64 \n",
      " 2   Region_Code          245725 non-null  object\n",
      " 3   Occupation           245725 non-null  object\n",
      " 4   Channel_Code         245725 non-null  object\n",
      " 5   Vintage              245725 non-null  int64 \n",
      " 6   Credit_Product       245725 non-null  object\n",
      " 7   Avg_Account_Balance  245725 non-null  int64 \n",
      " 8   Is_Active            245725 non-null  object\n",
      " 9   Is_Lead              245725 non-null  int64 \n",
      "dtypes: int64(4), object(6)\n",
      "memory usage: 18.7+ MB\n"
     ]
    }
   ],
   "source": [
    "bk.info()"
   ]
  },
  {
   "cell_type": "code",
   "execution_count": 138,
   "id": "9344bfc3",
   "metadata": {},
   "outputs": [
    {
     "data": {
      "text/html": [
       "<div>\n",
       "<style scoped>\n",
       "    .dataframe tbody tr th:only-of-type {\n",
       "        vertical-align: middle;\n",
       "    }\n",
       "\n",
       "    .dataframe tbody tr th {\n",
       "        vertical-align: top;\n",
       "    }\n",
       "\n",
       "    .dataframe thead th {\n",
       "        text-align: right;\n",
       "    }\n",
       "</style>\n",
       "<table border=\"1\" class=\"dataframe\">\n",
       "  <thead>\n",
       "    <tr style=\"text-align: right;\">\n",
       "      <th></th>\n",
       "      <th>Gender</th>\n",
       "      <th>Age</th>\n",
       "      <th>Region_Code</th>\n",
       "      <th>Occupation</th>\n",
       "      <th>Channel_Code</th>\n",
       "      <th>Vintage</th>\n",
       "      <th>Credit_Product</th>\n",
       "      <th>Avg_Account_Balance</th>\n",
       "      <th>Is_Active</th>\n",
       "      <th>Is_Lead</th>\n",
       "    </tr>\n",
       "  </thead>\n",
       "  <tbody>\n",
       "    <tr>\n",
       "      <th>Gender</th>\n",
       "      <td>1.000000</td>\n",
       "      <td>0.152076</td>\n",
       "      <td>0.004813</td>\n",
       "      <td>0.031536</td>\n",
       "      <td>0.150586</td>\n",
       "      <td>0.146380</td>\n",
       "      <td>0.042976</td>\n",
       "      <td>0.022477</td>\n",
       "      <td>0.064207</td>\n",
       "      <td>0.072068</td>\n",
       "    </tr>\n",
       "    <tr>\n",
       "      <th>Age</th>\n",
       "      <td>0.152076</td>\n",
       "      <td>1.000000</td>\n",
       "      <td>0.117914</td>\n",
       "      <td>-0.127753</td>\n",
       "      <td>0.605543</td>\n",
       "      <td>0.631242</td>\n",
       "      <td>0.129865</td>\n",
       "      <td>0.145232</td>\n",
       "      <td>0.218770</td>\n",
       "      <td>0.230814</td>\n",
       "    </tr>\n",
       "    <tr>\n",
       "      <th>Region_Code</th>\n",
       "      <td>0.004813</td>\n",
       "      <td>0.117914</td>\n",
       "      <td>1.000000</td>\n",
       "      <td>0.012186</td>\n",
       "      <td>0.103018</td>\n",
       "      <td>0.118810</td>\n",
       "      <td>0.048206</td>\n",
       "      <td>0.076999</td>\n",
       "      <td>0.059576</td>\n",
       "      <td>0.062501</td>\n",
       "    </tr>\n",
       "    <tr>\n",
       "      <th>Occupation</th>\n",
       "      <td>0.031536</td>\n",
       "      <td>-0.127753</td>\n",
       "      <td>0.012186</td>\n",
       "      <td>1.000000</td>\n",
       "      <td>0.123937</td>\n",
       "      <td>0.027156</td>\n",
       "      <td>0.015217</td>\n",
       "      <td>-0.038496</td>\n",
       "      <td>0.077208</td>\n",
       "      <td>0.012415</td>\n",
       "    </tr>\n",
       "    <tr>\n",
       "      <th>Channel_Code</th>\n",
       "      <td>0.150586</td>\n",
       "      <td>0.605543</td>\n",
       "      <td>0.103018</td>\n",
       "      <td>0.123937</td>\n",
       "      <td>1.000000</td>\n",
       "      <td>0.537852</td>\n",
       "      <td>0.178149</td>\n",
       "      <td>0.099911</td>\n",
       "      <td>0.249655</td>\n",
       "      <td>0.261211</td>\n",
       "    </tr>\n",
       "    <tr>\n",
       "      <th>Vintage</th>\n",
       "      <td>0.146380</td>\n",
       "      <td>0.631242</td>\n",
       "      <td>0.118810</td>\n",
       "      <td>0.027156</td>\n",
       "      <td>0.537852</td>\n",
       "      <td>1.000000</td>\n",
       "      <td>0.095078</td>\n",
       "      <td>0.167433</td>\n",
       "      <td>0.209356</td>\n",
       "      <td>0.279642</td>\n",
       "    </tr>\n",
       "    <tr>\n",
       "      <th>Credit_Product</th>\n",
       "      <td>0.042976</td>\n",
       "      <td>0.129865</td>\n",
       "      <td>0.048206</td>\n",
       "      <td>0.015217</td>\n",
       "      <td>0.178149</td>\n",
       "      <td>0.095078</td>\n",
       "      <td>1.000000</td>\n",
       "      <td>0.046030</td>\n",
       "      <td>-0.110699</td>\n",
       "      <td>0.117709</td>\n",
       "    </tr>\n",
       "    <tr>\n",
       "      <th>Avg_Account_Balance</th>\n",
       "      <td>0.022477</td>\n",
       "      <td>0.145232</td>\n",
       "      <td>0.076999</td>\n",
       "      <td>-0.038496</td>\n",
       "      <td>0.099911</td>\n",
       "      <td>0.167433</td>\n",
       "      <td>0.046030</td>\n",
       "      <td>1.000000</td>\n",
       "      <td>0.076637</td>\n",
       "      <td>0.053370</td>\n",
       "    </tr>\n",
       "    <tr>\n",
       "      <th>Is_Active</th>\n",
       "      <td>0.064207</td>\n",
       "      <td>0.218770</td>\n",
       "      <td>0.059576</td>\n",
       "      <td>0.077208</td>\n",
       "      <td>0.249655</td>\n",
       "      <td>0.209356</td>\n",
       "      <td>-0.110699</td>\n",
       "      <td>0.076637</td>\n",
       "      <td>1.000000</td>\n",
       "      <td>0.085723</td>\n",
       "    </tr>\n",
       "    <tr>\n",
       "      <th>Is_Lead</th>\n",
       "      <td>0.072068</td>\n",
       "      <td>0.230814</td>\n",
       "      <td>0.062501</td>\n",
       "      <td>0.012415</td>\n",
       "      <td>0.261211</td>\n",
       "      <td>0.279642</td>\n",
       "      <td>0.117709</td>\n",
       "      <td>0.053370</td>\n",
       "      <td>0.085723</td>\n",
       "      <td>1.000000</td>\n",
       "    </tr>\n",
       "  </tbody>\n",
       "</table>\n",
       "</div>"
      ],
      "text/plain": [
       "                       Gender       Age  Region_Code  Occupation  \\\n",
       "Gender               1.000000  0.152076     0.004813    0.031536   \n",
       "Age                  0.152076  1.000000     0.117914   -0.127753   \n",
       "Region_Code          0.004813  0.117914     1.000000    0.012186   \n",
       "Occupation           0.031536 -0.127753     0.012186    1.000000   \n",
       "Channel_Code         0.150586  0.605543     0.103018    0.123937   \n",
       "Vintage              0.146380  0.631242     0.118810    0.027156   \n",
       "Credit_Product       0.042976  0.129865     0.048206    0.015217   \n",
       "Avg_Account_Balance  0.022477  0.145232     0.076999   -0.038496   \n",
       "Is_Active            0.064207  0.218770     0.059576    0.077208   \n",
       "Is_Lead              0.072068  0.230814     0.062501    0.012415   \n",
       "\n",
       "                     Channel_Code   Vintage  Credit_Product  \\\n",
       "Gender                   0.150586  0.146380        0.042976   \n",
       "Age                      0.605543  0.631242        0.129865   \n",
       "Region_Code              0.103018  0.118810        0.048206   \n",
       "Occupation               0.123937  0.027156        0.015217   \n",
       "Channel_Code             1.000000  0.537852        0.178149   \n",
       "Vintage                  0.537852  1.000000        0.095078   \n",
       "Credit_Product           0.178149  0.095078        1.000000   \n",
       "Avg_Account_Balance      0.099911  0.167433        0.046030   \n",
       "Is_Active                0.249655  0.209356       -0.110699   \n",
       "Is_Lead                  0.261211  0.279642        0.117709   \n",
       "\n",
       "                     Avg_Account_Balance  Is_Active   Is_Lead  \n",
       "Gender                          0.022477   0.064207  0.072068  \n",
       "Age                             0.145232   0.218770  0.230814  \n",
       "Region_Code                     0.076999   0.059576  0.062501  \n",
       "Occupation                     -0.038496   0.077208  0.012415  \n",
       "Channel_Code                    0.099911   0.249655  0.261211  \n",
       "Vintage                         0.167433   0.209356  0.279642  \n",
       "Credit_Product                  0.046030  -0.110699  0.117709  \n",
       "Avg_Account_Balance             1.000000   0.076637  0.053370  \n",
       "Is_Active                       0.076637   1.000000  0.085723  \n",
       "Is_Lead                         0.053370   0.085723  1.000000  "
      ]
     },
     "execution_count": 138,
     "metadata": {},
     "output_type": "execute_result"
    }
   ],
   "source": [
    "bk.corr()"
   ]
  },
  {
   "cell_type": "code",
   "execution_count": 17,
   "id": "16dd77ab",
   "metadata": {},
   "outputs": [],
   "source": [
    "le = LabelEncoder()"
   ]
  },
  {
   "cell_type": "code",
   "execution_count": 19,
   "id": "976e00c2",
   "metadata": {},
   "outputs": [],
   "source": [
    "bk[bk.select_dtypes(include = ['object']).columns] = bk[bk.select_dtypes(include = ['object']).columns].apply(le.fit_transform)"
   ]
  },
  {
   "cell_type": "code",
   "execution_count": 20,
   "id": "7fad2448",
   "metadata": {},
   "outputs": [
    {
     "name": "stdout",
     "output_type": "stream",
     "text": [
      "<class 'pandas.core.frame.DataFrame'>\n",
      "RangeIndex: 245725 entries, 0 to 245724\n",
      "Data columns (total 10 columns):\n",
      " #   Column               Non-Null Count   Dtype\n",
      "---  ------               --------------   -----\n",
      " 0   Gender               245725 non-null  int32\n",
      " 1   Age                  245725 non-null  int64\n",
      " 2   Region_Code          245725 non-null  int32\n",
      " 3   Occupation           245725 non-null  int32\n",
      " 4   Channel_Code         245725 non-null  int32\n",
      " 5   Vintage              245725 non-null  int64\n",
      " 6   Credit_Product       245725 non-null  int32\n",
      " 7   Avg_Account_Balance  245725 non-null  int64\n",
      " 8   Is_Active            245725 non-null  int32\n",
      " 9   Is_Lead              245725 non-null  int64\n",
      "dtypes: int32(6), int64(4)\n",
      "memory usage: 13.1 MB\n"
     ]
    }
   ],
   "source": [
    "bk.info()"
   ]
  },
  {
   "cell_type": "code",
   "execution_count": 21,
   "id": "4f2be432",
   "metadata": {},
   "outputs": [
    {
     "data": {
      "text/html": [
       "<div>\n",
       "<style scoped>\n",
       "    .dataframe tbody tr th:only-of-type {\n",
       "        vertical-align: middle;\n",
       "    }\n",
       "\n",
       "    .dataframe tbody tr th {\n",
       "        vertical-align: top;\n",
       "    }\n",
       "\n",
       "    .dataframe thead th {\n",
       "        text-align: right;\n",
       "    }\n",
       "</style>\n",
       "<table border=\"1\" class=\"dataframe\">\n",
       "  <thead>\n",
       "    <tr style=\"text-align: right;\">\n",
       "      <th></th>\n",
       "      <th>Gender</th>\n",
       "      <th>Age</th>\n",
       "      <th>Region_Code</th>\n",
       "      <th>Occupation</th>\n",
       "      <th>Channel_Code</th>\n",
       "      <th>Vintage</th>\n",
       "      <th>Credit_Product</th>\n",
       "      <th>Avg_Account_Balance</th>\n",
       "      <th>Is_Active</th>\n",
       "      <th>Is_Lead</th>\n",
       "    </tr>\n",
       "  </thead>\n",
       "  <tbody>\n",
       "    <tr>\n",
       "      <th>0</th>\n",
       "      <td>0</td>\n",
       "      <td>73</td>\n",
       "      <td>18</td>\n",
       "      <td>1</td>\n",
       "      <td>2</td>\n",
       "      <td>43</td>\n",
       "      <td>0</td>\n",
       "      <td>1045696</td>\n",
       "      <td>0</td>\n",
       "      <td>0</td>\n",
       "    </tr>\n",
       "    <tr>\n",
       "      <th>1</th>\n",
       "      <td>0</td>\n",
       "      <td>30</td>\n",
       "      <td>27</td>\n",
       "      <td>2</td>\n",
       "      <td>0</td>\n",
       "      <td>32</td>\n",
       "      <td>0</td>\n",
       "      <td>581988</td>\n",
       "      <td>0</td>\n",
       "      <td>0</td>\n",
       "    </tr>\n",
       "    <tr>\n",
       "      <th>2</th>\n",
       "      <td>0</td>\n",
       "      <td>56</td>\n",
       "      <td>18</td>\n",
       "      <td>3</td>\n",
       "      <td>2</td>\n",
       "      <td>26</td>\n",
       "      <td>0</td>\n",
       "      <td>1484315</td>\n",
       "      <td>1</td>\n",
       "      <td>0</td>\n",
       "    </tr>\n",
       "    <tr>\n",
       "      <th>3</th>\n",
       "      <td>1</td>\n",
       "      <td>34</td>\n",
       "      <td>20</td>\n",
       "      <td>2</td>\n",
       "      <td>0</td>\n",
       "      <td>19</td>\n",
       "      <td>0</td>\n",
       "      <td>470454</td>\n",
       "      <td>0</td>\n",
       "      <td>0</td>\n",
       "    </tr>\n",
       "    <tr>\n",
       "      <th>4</th>\n",
       "      <td>0</td>\n",
       "      <td>30</td>\n",
       "      <td>32</td>\n",
       "      <td>2</td>\n",
       "      <td>0</td>\n",
       "      <td>33</td>\n",
       "      <td>0</td>\n",
       "      <td>886787</td>\n",
       "      <td>0</td>\n",
       "      <td>0</td>\n",
       "    </tr>\n",
       "  </tbody>\n",
       "</table>\n",
       "</div>"
      ],
      "text/plain": [
       "   Gender  Age  Region_Code  Occupation  Channel_Code  Vintage  \\\n",
       "0       0   73           18           1             2       43   \n",
       "1       0   30           27           2             0       32   \n",
       "2       0   56           18           3             2       26   \n",
       "3       1   34           20           2             0       19   \n",
       "4       0   30           32           2             0       33   \n",
       "\n",
       "   Credit_Product  Avg_Account_Balance  Is_Active  Is_Lead  \n",
       "0               0              1045696          0        0  \n",
       "1               0               581988          0        0  \n",
       "2               0              1484315          1        0  \n",
       "3               0               470454          0        0  \n",
       "4               0               886787          0        0  "
      ]
     },
     "execution_count": 21,
     "metadata": {},
     "output_type": "execute_result"
    }
   ],
   "source": [
    "bk.head()"
   ]
  },
  {
   "cell_type": "code",
   "execution_count": 118,
   "id": "f09b2926",
   "metadata": {},
   "outputs": [],
   "source": [
    "#Sampling\n",
    "from sklearn.model_selection import train_test_split"
   ]
  },
  {
   "cell_type": "code",
   "execution_count": 119,
   "id": "7ed7750d",
   "metadata": {},
   "outputs": [],
   "source": [
    "bk_train , bk_test = train_test_split(bk, test_size = 0.2)"
   ]
  },
  {
   "cell_type": "code",
   "execution_count": 120,
   "id": "2d5d86ea",
   "metadata": {},
   "outputs": [],
   "source": [
    "bk_train_x = bk_train.iloc[ : , 0:-1]\n",
    "bk_train_y = bk_train.iloc[ : , -1]"
   ]
  },
  {
   "cell_type": "code",
   "execution_count": 121,
   "id": "5fba8184",
   "metadata": {},
   "outputs": [],
   "source": [
    "bk_test_x = bk_test.iloc[ : , 0:-1]\n",
    "bk_test_y = bk_test.iloc[ : , -1]"
   ]
  },
  {
   "cell_type": "code",
   "execution_count": 122,
   "id": "29c90080",
   "metadata": {},
   "outputs": [
    {
     "data": {
      "text/plain": [
       "(196580, 9)"
      ]
     },
     "execution_count": 122,
     "metadata": {},
     "output_type": "execute_result"
    }
   ],
   "source": [
    "bk_train_x.shape"
   ]
  },
  {
   "cell_type": "code",
   "execution_count": 123,
   "id": "f7eed3d6",
   "metadata": {},
   "outputs": [],
   "source": [
    "from sklearn.linear_model import LogisticRegression"
   ]
  },
  {
   "cell_type": "code",
   "execution_count": 124,
   "id": "66c742cd",
   "metadata": {},
   "outputs": [],
   "source": [
    "log_bk  = LogisticRegression()"
   ]
  },
  {
   "cell_type": "code",
   "execution_count": 125,
   "id": "b9d1721a",
   "metadata": {},
   "outputs": [
    {
     "data": {
      "text/plain": [
       "LogisticRegression()"
      ]
     },
     "execution_count": 125,
     "metadata": {},
     "output_type": "execute_result"
    }
   ],
   "source": [
    "log_bk.fit(bk_train_x, bk_train_y)"
   ]
  },
  {
   "cell_type": "code",
   "execution_count": 126,
   "id": "98379301",
   "metadata": {},
   "outputs": [
    {
     "data": {
      "text/plain": [
       "array([0, 0, 0, ..., 0, 0, 0], dtype=int64)"
      ]
     },
     "execution_count": 126,
     "metadata": {},
     "output_type": "execute_result"
    }
   ],
   "source": [
    "pred = log_bk.predict(bk_test_x)\n",
    "pred"
   ]
  },
  {
   "cell_type": "code",
   "execution_count": 127,
   "id": "7bdd397f",
   "metadata": {},
   "outputs": [],
   "source": [
    "from sklearn.metrics import confusion_matrix"
   ]
  },
  {
   "cell_type": "code",
   "execution_count": 128,
   "id": "00859fa8",
   "metadata": {},
   "outputs": [
    {
     "data": {
      "text/plain": [
       "array([[36391,  1158],\n",
       "       [10821,   775]], dtype=int64)"
      ]
     },
     "execution_count": 128,
     "metadata": {},
     "output_type": "execute_result"
    }
   ],
   "source": [
    "dec_bk = confusion_matrix(bk_test_y, pred)\n",
    "dec_bk"
   ]
  },
  {
   "cell_type": "code",
   "execution_count": 129,
   "id": "a704707f",
   "metadata": {},
   "outputs": [],
   "source": [
    "from sklearn.metrics import accuracy_score"
   ]
  },
  {
   "cell_type": "code",
   "execution_count": 130,
   "id": "18a2ec2c",
   "metadata": {},
   "outputs": [
    {
     "data": {
      "text/plain": [
       "0.7562519076203073"
      ]
     },
     "execution_count": 130,
     "metadata": {},
     "output_type": "execute_result"
    }
   ],
   "source": [
    "accuracy_score(bk_test_y,pred)"
   ]
  },
  {
   "cell_type": "code",
   "execution_count": 131,
   "id": "9da53625",
   "metadata": {},
   "outputs": [],
   "source": [
    "from sklearn.tree import DecisionTreeClassifier"
   ]
  },
  {
   "cell_type": "code",
   "execution_count": 132,
   "id": "c615f0ee",
   "metadata": {},
   "outputs": [],
   "source": [
    "dtree = DecisionTreeClassifier(criterion='entropy', max_depth = 5,    min_samples_split=50) #Shift,Tab for init signature"
   ]
  },
  {
   "cell_type": "code",
   "execution_count": 133,
   "id": "dbe1b672",
   "metadata": {},
   "outputs": [
    {
     "data": {
      "text/plain": [
       "DecisionTreeClassifier(criterion='entropy', max_depth=5, min_samples_split=50)"
      ]
     },
     "execution_count": 133,
     "metadata": {},
     "output_type": "execute_result"
    }
   ],
   "source": [
    "dtree.fit(bk_train_x, bk_train_y)"
   ]
  },
  {
   "cell_type": "code",
   "execution_count": 134,
   "id": "751b9eb6",
   "metadata": {},
   "outputs": [],
   "source": [
    "dec_pred = dtree.predict(bk_test_x)"
   ]
  },
  {
   "cell_type": "code",
   "execution_count": 135,
   "id": "ba8f0327",
   "metadata": {},
   "outputs": [
    {
     "data": {
      "text/plain": [
       "array([0, 0, 0, ..., 0, 0, 1], dtype=int64)"
      ]
     },
     "execution_count": 135,
     "metadata": {},
     "output_type": "execute_result"
    }
   ],
   "source": [
    "dec_pred"
   ]
  },
  {
   "cell_type": "code",
   "execution_count": 136,
   "id": "3650dffe",
   "metadata": {},
   "outputs": [
    {
     "data": {
      "text/plain": [
       "array([[37369,   180],\n",
       "       [10664,   932]], dtype=int64)"
      ]
     },
     "execution_count": 136,
     "metadata": {},
     "output_type": "execute_result"
    }
   ],
   "source": [
    "dtree_tab = confusion_matrix(bk_test_y, dec_pred)\n",
    "dtree_tab"
   ]
  },
  {
   "cell_type": "code",
   "execution_count": 137,
   "id": "987bc9ef",
   "metadata": {},
   "outputs": [
    {
     "data": {
      "text/plain": [
       "0.7793468308067962"
      ]
     },
     "execution_count": 137,
     "metadata": {},
     "output_type": "execute_result"
    }
   ],
   "source": [
    "accuracy_score(bk_test_y , dec_pred)"
   ]
  },
  {
   "cell_type": "code",
   "execution_count": null,
   "id": "7dc7102e",
   "metadata": {},
   "outputs": [],
   "source": []
  },
  {
   "cell_type": "code",
   "execution_count": null,
   "id": "93a5d676",
   "metadata": {},
   "outputs": [],
   "source": []
  }
 ],
 "metadata": {
  "kernelspec": {
   "display_name": "Python 3 (ipykernel)",
   "language": "python",
   "name": "python3"
  },
  "language_info": {
   "codemirror_mode": {
    "name": "ipython",
    "version": 3
   },
   "file_extension": ".py",
   "mimetype": "text/x-python",
   "name": "python",
   "nbconvert_exporter": "python",
   "pygments_lexer": "ipython3",
   "version": "3.9.12"
  }
 },
 "nbformat": 4,
 "nbformat_minor": 5
}
